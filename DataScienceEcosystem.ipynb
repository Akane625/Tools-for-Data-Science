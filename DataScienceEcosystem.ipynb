{
 "cells": [
  {
   "cell_type": "markdown",
   "id": "4ca7292c-071d-42ad-88b5-1f859d0a6295",
   "metadata": {},
   "source": [
    "# Data Science Tools and Ecosystem"
   ]
  },
  {
   "cell_type": "code",
   "execution_count": null,
   "id": "a5f141f9-16bf-416e-9d8d-c5b2c9914f69",
   "metadata": {},
   "outputs": [],
   "source": [
    "In this notebook, data science tools and ecosystems are summarized."
   ]
  },
  {
   "cell_type": "markdown",
   "id": "005230cb-33aa-4f0f-82d0-ffcbbfb34f0d",
   "metadata": {},
   "source": [
    "__title:__ Some of the key takeaways from this course\n",
    "__objectives:__\n",
    "- List popular languages in data science\n",
    "- list commonly used libraries in data science\\\n",
    "- list data science tools\n",
    "- demonstrate arithmetic expressions in Python "
   ]
  },
  {
   "cell_type": "markdown",
   "id": "d22021c8-25dd-4d63-bce2-11db2926b6ed",
   "metadata": {},
   "source": [
    "## Author\n",
    "Thom"
   ]
  },
  {
   "cell_type": "markdown",
   "id": "269097ff-f4b4-4562-82a5-21013115c6bf",
   "metadata": {},
   "source": [
    "Some of the popular languages that Data Scientist use are:\n",
    "1. Python\n",
    "2. R\n",
    "3. SQL"
   ]
  },
  {
   "cell_type": "markdown",
   "id": "a977e186-9dce-4e40-be41-9605363c5c86",
   "metadata": {},
   "source": [
    "Some of the commonly used libraries used by Data Scientists include:\n",
    "1. Pandas\n",
    "2. Numpy\n",
    "3. Matplotlib"
   ]
  },
  {
   "cell_type": "markdown",
   "id": "5a62ce9d-af2d-487b-ae28-8b4a3b288ab0",
   "metadata": {},
   "source": [
    "| Data Science Tools |\n",
    "|--------------------|\n",
    "| R Studio           |\n",
    "| MySQL              |\n",
    "| Visual Studio Code |"
   ]
  },
  {
   "cell_type": "markdown",
   "id": "0adadac2-48a8-4487-b6ae-316ff04d1a78",
   "metadata": {},
   "source": [
    "### Below are a few example of evaluating arithmetic expressions in Python."
   ]
  },
  {
   "cell_type": "code",
   "execution_count": 11,
   "id": "bc039546-d5c0-4dfa-9d04-bd528f31f753",
   "metadata": {},
   "outputs": [
    {
     "data": {
      "text/plain": [
       "17"
      ]
     },
     "execution_count": 11,
     "metadata": {},
     "output_type": "execute_result"
    }
   ],
   "source": [
    "(3 * 4) + 5\n",
    "\n",
    "# This is a simple arithmetic expression to multiply then add integers."
   ]
  },
  {
   "cell_type": "code",
   "execution_count": 13,
   "id": "c976bcb0-945f-4aba-b72f-b313e5fcc848",
   "metadata": {},
   "outputs": [
    {
     "data": {
      "text/plain": [
       "3.3333333333333335"
      ]
     },
     "execution_count": 13,
     "metadata": {},
     "output_type": "execute_result"
    }
   ],
   "source": [
    "200 / 60\n",
    "\n",
    "# This will convert 200 minutes to hours by dividing by 60"
   ]
  }
 ],
 "metadata": {
  "kernelspec": {
   "display_name": "Python 3 (ipykernel)",
   "language": "python",
   "name": "python3"
  },
  "language_info": {
   "codemirror_mode": {
    "name": "ipython",
    "version": 3
   },
   "file_extension": ".py",
   "mimetype": "text/x-python",
   "name": "python",
   "nbconvert_exporter": "python",
   "pygments_lexer": "ipython3",
   "version": "3.12.4"
  }
 },
 "nbformat": 4,
 "nbformat_minor": 5
}
